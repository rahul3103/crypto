{
 "cells": [
  {
   "cell_type": "code",
   "execution_count": 2,
   "metadata": {},
   "outputs": [],
   "source": [
    "import requests\n",
    "from bs4 import BeautifulSoup as bs"
   ]
  },
  {
   "cell_type": "code",
   "execution_count": 7,
   "metadata": {},
   "outputs": [],
   "source": [
    "url = 'https://coinmarketcap.com/'\n",
    "url = 'https://coindelta.com/market?active=BTC-INR'"
   ]
  },
  {
   "cell_type": "code",
   "execution_count": 3,
   "metadata": {},
   "outputs": [],
   "source": [
    "def soup_maker(url):\n",
    "    r = requests.get(url)\n",
    "    markup = r.content\n",
    "    soup = bs(markup, 'lxml')\n",
    "    return soup"
   ]
  },
  {
   "cell_type": "code",
   "execution_count": 23,
   "metadata": {},
   "outputs": [],
   "source": [
    "coins = ['bitcoin', 'ethereum', 'ripple', 'bitcoin-cash', 'litecoin']"
   ]
  },
  {
   "cell_type": "code",
   "execution_count": 35,
   "metadata": {},
   "outputs": [],
   "source": [
    "def coin_price():\n",
    "    soup = soup_maker(url)\n",
    "    coins_current_price = {}\n",
    "    for coin in coins:\n",
    "        coin_id = 'id-' + coin\n",
    "        tr = soup.find('tr', id = coin_id)\n",
    "        current_price = float(tr.find('a', class_ = 'price')['data-usd'])\n",
    "        coins_current_price[coin] = current_price\n",
    "    return coins_current_price"
   ]
  },
  {
   "cell_type": "code",
   "execution_count": 36,
   "metadata": {},
   "outputs": [
    {
     "data": {
      "text/plain": [
       "{'bitcoin': 14616.6,\n",
       " 'bitcoin-cash': 2719.16,\n",
       " 'ethereum': 1347.14,\n",
       " 'litecoin': 249.528,\n",
       " 'ripple': 2.01176}"
      ]
     },
     "execution_count": 36,
     "metadata": {},
     "output_type": "execute_result"
    }
   ],
   "source": [
    "coin_price()"
   ]
  },
  {
   "cell_type": "code",
   "execution_count": 4,
   "metadata": {},
   "outputs": [
    {
     "data": {
      "text/plain": [
       "<!DOCTYPE HTML>\\n<html lang=\"en-US\">\\n<head>\\n<meta charset=\"unicode-escape\"/>\\n<meta content=\"text/html; charset=unicode-escape\" http-equiv=\"Content-Type\"/>\\n<meta content=\"IE=Edge,chrome=1\" http-equiv=\"X-UA-Compatible\"/>\\n<meta content=\"noindex, nofollow\" name=\"robots\"/>\\n<meta content=\"width=device-width, initial-scale=1, maximum-scale=1\" name=\"viewport\"/>\\n<title>Just a moment...</title>\\n<style type=\"text/css\">\\n    html, body {width: 100%; height: 100%; margin: 0; padding: 0;}\\n    body {background-color: #ffffff; font-family: Helvetica, Arial, sans-serif; font-size: 100%;}\\n    h1 {font-size: 1.5em; color: #404040; text-align: center;}\\n    p {font-size: 1em; color: #404040; text-align: center; margin: 10px 0 0 0;}\\n    #spinner {margin: 0 auto 30px auto; display: block;}\\n    .attribution {margin-top: 20px;}\\n    @-webkit-keyframes bubbles { 33%: { -webkit-transform: translateY(10px); transform: translateY(10px); } 66% { -webkit-transform: translateY(-10px); transform: translateY(-10px); } 100% { -webkit-transform: translateY(0); transform: translateY(0); } }\\n    @keyframes bubbles { 33%: { -webkit-transform: translateY(10px); transform: translateY(10px); } 66% { -webkit-transform: translateY(-10px); transform: translateY(-10px); } 100% { -webkit-transform: translateY(0); transform: translateY(0); } }\\n    .bubbles { background-color: #404040; width:15px; height: 15px; margin:2px; border-radius:100%; -webkit-animation:bubbles 0.6s 0.07s infinite ease-in-out; animation:bubbles 0.6s 0.07s infinite ease-in-out; -webkit-animation-fill-mode:both; animation-fill-mode:both; display:inline-block; }\\n  </style>\\n<script type=\"text/javascript\">\\n  //<![CDATA[\\n  (function(){\\n    var a = function() {try{return !!window.addEventListener} catch(e) {return !1} },\\n    b = function(b, c) {a() ? document.addEventListener(\"DOMContentLoaded\", b, c) : document.attachEvent(\"onreadystatechange\", b)};\\n    b(function(){\\n      var a = document.getElementById('cf-content');a.style.display = 'block';\\n      setTimeout(function(){\\n        var s,t,o,p,b,r,e,a,k,i,n,g,f, sCtMpJG={\"NzXNAA\":+((!+[]+!![]+!![]+[])+(!+[]+!![]+!![]+!![]+!![]+!![]+!![]+!![]))};\\n        t = document.createElement('div');\\n        t.innerHTML=\"<a href='/'>x</a>\";\\n        t = t.firstChild.href;r = t.match(/https?:\\\\/\\\\//)[0];\\n        t = t.substr(r.length); t = t.substr(0,t.length-1);\\n        a = document.getElementById('jschl-answer');\\n        f = document.getElementById('challenge-form');\\n        ;sCtMpJG.NzXNAA-=+((!+[]+!![]+[])+(!+[]+!![]+!![]+!![]+!![]));sCtMpJG.NzXNAA+=+((!+[]+!![]+!![]+!![]+[])+(!+[]+!![]+!![]+!![]+!![]));a.value = parseInt(sCtMpJG.NzXNAA, 10) + t.length; '; 121'\\n        f.action += location.hash;\\n        f.submit();\\n      }, 4000);\\n    }, false);\\n  })();\\n  //]]>\\n</script>\\n</head>\\n<body>\\n<table cellpadding=\"20\" height=\"100%\" width=\"100%\">\\n<tr>\\n<td align=\"center\" valign=\"middle\">\\n<div class=\"cf-browser-verification cf-im-under-attack\">\\n<noscript><h1 data-translate=\"turn_on_js\" style=\"color:#bd2426;\">Please turn JavaScript on and reload the page.</h1></noscript>\\n<div id=\"cf-content\" style=\"display:none\">\\n<div>\\n<div class=\"bubbles\"></div>\\n<div class=\"bubbles\"></div>\\n<div class=\"bubbles\"></div>\\n</div>\\n<h1><span data-translate=\"checking_browser\">Checking your browser before accessing</span> coindelta.com.</h1>\\n<p data-translate=\"process_is_automatic\">This process is automatic. Your browser will redirect to your requested content shortly.</p>\\n<p data-translate=\"allow_5_secs\">Please allow up to 5 seconds\\u2026</p>\\n</div>\\n<form action=\"/cdn-cgi/l/chk_jschl\" id=\"challenge-form\" method=\"get\">\\n<input name=\"jschl_vc\" type=\"hidden\" value=\"dbde804d50a3e9cfe1d95e58ec237b61\"/>\\n<input name=\"pass\" type=\"hidden\" value=\"1515638854.606-MSp+CUiRcb\"/>\\n<input id=\"jschl-answer\" name=\"jschl_answer\" type=\"hidden\"/>\\n</form>\\n</div>\\n<div class=\"attribution\">\\n<a href=\"https://www.cloudflare.com/5xx-error-landing?utm_source=iuam\" style=\"font-size: 12px;\" target=\"_blank\">DDoS protection by Cloudflare</a>\\n<br/>\\n            Ray ID: 3db48d40495c2eff\\n          </div>\\n</td>\\n</tr>\\n</table>\\n</body>\\n</html>\\n"
      ]
     },
     "execution_count": 4,
     "metadata": {},
     "output_type": "execute_result"
    }
   ],
   "source": [
    "soup_maker(url)"
   ]
  },
  {
   "cell_type": "code",
   "execution_count": 3,
   "metadata": {},
   "outputs": [],
   "source": [
    "from selenium import webdriver"
   ]
  },
  {
   "cell_type": "code",
   "execution_count": 8,
   "metadata": {},
   "outputs": [],
   "source": [
    "options = webdriver.ChromeOptions()\n",
    "options.add_argument('headless')\n",
    "driver = webdriver.Chrome(chrome_options=options)\n",
    "driver.get(url)"
   ]
  },
  {
   "cell_type": "code",
   "execution_count": 1,
   "metadata": {},
   "outputs": [],
   "source": [
    "coindelta = 'https://coindelta.com/api/v1/public/getticker/'\n",
    "koinex = 'https://koinex.in/api/ticker'\n",
    "coinmarketcap = 'https://api.coinmarketcap.com/v1/ticker/?convert=INR&limit=20'\n",
    "unocoin = 'https://www.unocoin.com/trade?all'"
   ]
  },
  {
   "cell_type": "code",
   "execution_count": 8,
   "metadata": {},
   "outputs": [],
   "source": [
    "coindelta_data = requests.get(coindelta).json()"
   ]
  },
  {
   "cell_type": "code",
   "execution_count": 30,
   "metadata": {},
   "outputs": [],
   "source": [
    "coins = ['btc-inr', 'eth-inr', 'ltc-inr', 'omg-inr', 'qtum-inr', 'xrp-inr', 'bch-inr']\n",
    "coin_data = []\n",
    "for coin in coindelta_data:\n",
    "    if coin['MarketName'] in coins:\n",
    "        coin_data.append({\n",
    "            'exchange': 'coindelta', \n",
    "            'coin': coin['MarketName'].split('-')[0], \n",
    "            'trade_values': {\n",
    "                'ask': coin['Ask'],\n",
    "                'bid': coin['Bid'],\n",
    "                'last': coin['Last']\n",
    "            }\n",
    "        })"
   ]
  },
  {
   "cell_type": "code",
   "execution_count": 32,
   "metadata": {},
   "outputs": [],
   "source": [
    "koinex_data = requests.get(koinex).json()"
   ]
  },
  {
   "cell_type": "code",
   "execution_count": 57,
   "metadata": {},
   "outputs": [],
   "source": [
    "coins = ['BTC', 'ETH', 'LTC', 'XRP', 'BCH']\n",
    "for coin in coins:\n",
    "    coin_data.append({\n",
    "        'exchange': 'koinex',\n",
    "        'coin': coin.lower(),\n",
    "        'trade_values': {\n",
    "            'ask': koinex_data['stats'][coin]['lowest_ask'],\n",
    "            'bid': koinex_data['stats'][coin]['highest_bid'],\n",
    "            'last': koinex_data['stats'][coin]['last_traded_price']\n",
    "        }\n",
    "    })"
   ]
  },
  {
   "cell_type": "code",
   "execution_count": 58,
   "metadata": {},
   "outputs": [
    {
     "data": {
      "text/plain": [
       "[{'coin': 'btc',\n",
       "  'exchange': 'koinex',\n",
       "  'trade_values': {'ask': '846000.0', 'bid': '842001.0', 'last': '842001.0'}},\n",
       " {'coin': 'eth',\n",
       "  'exchange': 'koinex',\n",
       "  'trade_values': {'ask': '79700.0', 'bid': '79514.01', 'last': '79514.01'}},\n",
       " {'coin': 'ltc',\n",
       "  'exchange': 'koinex',\n",
       "  'trade_values': {'ask': '13565.0', 'bid': '13562.0', 'last': '13565.0'}},\n",
       " {'coin': 'xrp',\n",
       "  'exchange': 'koinex',\n",
       "  'trade_values': {'ask': '100.0', 'bid': '100.11', 'last': '100.12'}},\n",
       " {'coin': 'bch',\n",
       "  'exchange': 'koinex',\n",
       "  'trade_values': {'ask': '124000.0', 'bid': '123501.0', 'last': '124000.0'}}]"
      ]
     },
     "execution_count": 58,
     "metadata": {},
     "output_type": "execute_result"
    }
   ],
   "source": [
    "coin_data"
   ]
  },
  {
   "cell_type": "code",
   "execution_count": 60,
   "metadata": {},
   "outputs": [],
   "source": [
    "from model import Crypto, db"
   ]
  },
  {
   "cell_type": "code",
   "execution_count": 61,
   "metadata": {},
   "outputs": [],
   "source": [
    "with db.atomic():\n",
    "        Crypto.insert_many(coin_data).execute()"
   ]
  },
  {
   "cell_type": "code",
   "execution_count": 66,
   "metadata": {},
   "outputs": [
    {
     "data": {
      "text/plain": [
       "u'koinex'"
      ]
     },
     "execution_count": 66,
     "metadata": {},
     "output_type": "execute_result"
    }
   ],
   "source": [
    "Crypto.select().first().exchange"
   ]
  },
  {
   "cell_type": "code",
   "execution_count": 67,
   "metadata": {},
   "outputs": [],
   "source": [
    "coindelta_data = requests.get(coindelta)"
   ]
  },
  {
   "cell_type": "code",
   "execution_count": 72,
   "metadata": {},
   "outputs": [
    {
     "data": {
      "text/plain": [
       "True"
      ]
     },
     "execution_count": 72,
     "metadata": {},
     "output_type": "execute_result"
    }
   ],
   "source": [
    "coindelta_data.status_code == 200"
   ]
  },
  {
   "cell_type": "code",
   "execution_count": 75,
   "metadata": {},
   "outputs": [],
   "source": [
    "from extractors import data_collector"
   ]
  },
  {
   "cell_type": "code",
   "execution_count": 76,
   "metadata": {},
   "outputs": [
    {
     "ename": "UnboundLocalError",
     "evalue": "local variable 'coindelta' referenced before assignment",
     "output_type": "error",
     "traceback": [
      "\u001b[0;31m---------------------------------------------------------------------------\u001b[0m",
      "\u001b[0;31mUnboundLocalError\u001b[0m                         Traceback (most recent call last)",
      "\u001b[0;32m<ipython-input-76-03878d3fa24f>\u001b[0m in \u001b[0;36m<module>\u001b[0;34m()\u001b[0m\n\u001b[0;32m----> 1\u001b[0;31m \u001b[0mdata_collector\u001b[0m\u001b[0;34m(\u001b[0m\u001b[0;34m)\u001b[0m\u001b[0;34m\u001b[0m\u001b[0m\n\u001b[0m",
      "\u001b[0;32m/home/rahul/project/personal/crypto/extractors.py\u001b[0m in \u001b[0;36mdata_collector\u001b[0;34m()\u001b[0m\n\u001b[1;32m      5\u001b[0m \u001b[0;34m\u001b[0m\u001b[0m\n\u001b[1;32m      6\u001b[0m \u001b[0;32mdef\u001b[0m \u001b[0mdata_collector\u001b[0m\u001b[0;34m(\u001b[0m\u001b[0;34m)\u001b[0m\u001b[0;34m:\u001b[0m\u001b[0;34m\u001b[0m\u001b[0m\n\u001b[0;32m----> 7\u001b[0;31m     \u001b[0mcoindelta\u001b[0m \u001b[0;34m=\u001b[0m \u001b[0mrequests\u001b[0m\u001b[0;34m.\u001b[0m\u001b[0mget\u001b[0m\u001b[0;34m(\u001b[0m\u001b[0mcoindelta_api\u001b[0m\u001b[0;34m)\u001b[0m\u001b[0;34m\u001b[0m\u001b[0m\n\u001b[0m\u001b[1;32m      8\u001b[0m     \u001b[0;32mif\u001b[0m \u001b[0mcoindelta\u001b[0m\u001b[0;34m.\u001b[0m\u001b[0mstatus_code\u001b[0m \u001b[0;34m==\u001b[0m \u001b[0;36m200\u001b[0m\u001b[0;34m:\u001b[0m\u001b[0;34m\u001b[0m\u001b[0m\n\u001b[1;32m      9\u001b[0m         \u001b[0mcoins\u001b[0m \u001b[0;34m=\u001b[0m \u001b[0;34m[\u001b[0m\u001b[0;34m'btc-inr'\u001b[0m\u001b[0;34m,\u001b[0m \u001b[0;34m'eth-inr'\u001b[0m\u001b[0;34m,\u001b[0m \u001b[0;34m'ltc-inr'\u001b[0m\u001b[0;34m,\u001b[0m \u001b[0;34m'omg-inr'\u001b[0m\u001b[0;34m,\u001b[0m \u001b[0;34m'qtum-inr'\u001b[0m\u001b[0;34m,\u001b[0m \u001b[0;34m'xrp-inr'\u001b[0m\u001b[0;34m,\u001b[0m \u001b[0;34m'bch-inr'\u001b[0m\u001b[0;34m]\u001b[0m\u001b[0;34m\u001b[0m\u001b[0m\n",
      "\u001b[0;31mUnboundLocalError\u001b[0m: local variable 'coindelta' referenced before assignment"
     ]
    }
   ],
   "source": [
    "data_collector()"
   ]
  },
  {
   "cell_type": "code",
   "execution_count": 77,
   "metadata": {},
   "outputs": [],
   "source": [
    "a = {u'omg': {'coindelta': {'ask': 1260.0, 'bid': 1259.0, 'last': 1260.0}}, u'qtum': {'coindelta': {'ask': 2860.0, 'bid': 2858.0, 'last': 2859.0}}, u'ltc': {'coindelta': {'ask': 13030.0, 'bid': 12850.0, 'last': 12871.0}, 'koinex': {'ask': 13645.0, 'bid': 13602.0, 'last': 13645.0}}, u'btc': {'coindelta': {'ask': 809799.0, 'bid': 795001.01, 'last': 816700.0}, 'koinex': {'ask': 840000.0, 'bid': 836000.0, 'last': 836000.0}}, u'bch': {'coindelta': {'ask': 118429.0, 'bid': 114600.0, 'last': 118450.0}, 'koinex': {'ask': 122000.0, 'bid': 121705.0, 'last': 122000.0}}, u'eth': {'coindelta': {'ask': 76250.0, 'bid': 74120.0, 'last': 76250.0}, 'koinex': {'ask': 78900.0, 'bid': 78600.0, 'last': 78900.0}}, u'xrp': {'coindelta': {'ask': 94.48, 'bid': 94.44, 'last': 94.0}, 'koinex': {'ask': 99.2, 'bid': 99.12, 'last': 99.1}}}\n"
   ]
  },
  {
   "cell_type": "code",
   "execution_count": 84,
   "metadata": {},
   "outputs": [
    {
     "name": "stdout",
     "output_type": "stream",
     "text": [
      "{'ask': 94.48, 'bid': 94.44, 'last': 94.0}\n",
      "{'ask': 76250.0, 'bid': 74120.0, 'last': 76250.0}\n",
      "{'ask': 13030.0, 'bid': 12850.0, 'last': 12871.0}\n",
      "{'ask': 809799.0, 'bid': 795001.01, 'last': 816700.0}\n",
      "{'ask': 118429.0, 'bid': 114600.0, 'last': 118450.0}\n",
      "{'ask': 1260.0, 'bid': 1259.0, 'last': 1260.0}\n",
      "{'ask': 2860.0, 'bid': 2858.0, 'last': 2859.0}\n"
     ]
    }
   ],
   "source": [
    "for i in ['xrp', 'eth', 'ltc', 'btc', 'bch', 'omg', 'qtum']:\n",
    "    print(a[i]['coindelta'])"
   ]
  },
  {
   "cell_type": "code",
   "execution_count": 85,
   "metadata": {},
   "outputs": [
    {
     "name": "stdout",
     "output_type": "stream",
     "text": [
      "1,000,000\n"
     ]
    }
   ],
   "source": [
    "def place_value(number):\n",
    "    return ()\n",
    " \n",
    "print(place_value(1000000))"
   ]
  },
  {
   "cell_type": "code",
   "execution_count": null,
   "metadata": {},
   "outputs": [],
   "source": []
  }
 ],
 "metadata": {
  "kernelspec": {
   "display_name": "Python 2",
   "language": "python",
   "name": "python2"
  },
  "language_info": {
   "codemirror_mode": {
    "name": "ipython",
    "version": 2
   },
   "file_extension": ".py",
   "mimetype": "text/x-python",
   "name": "python",
   "nbconvert_exporter": "python",
   "pygments_lexer": "ipython2",
   "version": "2.7.12"
  }
 },
 "nbformat": 4,
 "nbformat_minor": 2
}
